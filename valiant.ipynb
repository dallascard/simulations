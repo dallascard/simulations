{
 "cells": [
  {
   "cell_type": "code",
   "execution_count": 86,
   "metadata": {},
   "outputs": [],
   "source": [
    "%matplotlib inline\n",
    "import numpy as np\n",
    "import matplotlib.pyplot as plt\n",
    "from scipy.stats import skew"
   ]
  },
  {
   "cell_type": "code",
   "execution_count": 115,
   "metadata": {},
   "outputs": [
    {
     "name": "stdout",
     "output_type": "stream",
     "text": [
      "0.9908561790730855\n"
     ]
    },
    {
     "data": {
      "image/png": "[encoded data removed]",
      "text/plain": [
       "<matplotlib.figure.Figure at 0x111c96f28>"
      ]
     },
     "metadata": {},
     "output_type": "display_data"
    }
   ],
   "source": [
    "n = 500\n",
    "bins = 50\n",
    "\n",
    "# identity\n",
    "S = np.eye(n)\n",
    "X = np.random.multivariate_normal(np.zeros(n), S, size=n)/np.sqrt(n)\n",
    "\n",
    "vals = np.linalg.eigvals(np.dot(X.T, X))\n",
    "plt.hist(vals, bins=bins);\n",
    "print(skew(vals))"
   ]
  },
  {
   "cell_type": "code",
   "execution_count": 116,
   "metadata": {},
   "outputs": [
    {
     "name": "stdout",
     "output_type": "stream",
     "text": [
      "1.3502148396621123\n"
     ]
    },
    {
     "data": {
      "image/png": "[encoded data removed]",
      "text/plain": [
       "<matplotlib.figure.Figure at 0x114566828>"
      ]
     },
     "metadata": {},
     "output_type": "display_data"
    }
   ],
   "source": [
    "# random positive diagonal\n",
    "v = np.random.rand(n)\n",
    "S = np.diag(v)\n",
    "X = np.random.multivariate_normal(np.zeros(n), S, size=n)/np.sqrt(n)\n",
    "\n",
    "vals = np.linalg.eigvals(np.dot(X.T, X))\n",
    "plt.hist(vals, bins=bins);\n",
    "print(skew(vals))"
   ]
  },
  {
   "cell_type": "code",
   "execution_count": 117,
   "metadata": {},
   "outputs": [
    {
     "name": "stdout",
     "output_type": "stream",
     "text": [
      "1.955902186834287\n"
     ]
    },
    {
     "data": {
      "image/png": "[encoded data removed]",
      "text/plain": [
       "<matplotlib.figure.Figure at 0x11103afd0>"
      ]
     },
     "metadata": {},
     "output_type": "display_data"
    }
   ],
   "source": [
    "# exponentially distributed diagonal\n",
    "v = np.random.exponential(size=n)\n",
    "S = np.diag(v)\n",
    "X = np.random.multivariate_normal(np.zeros(n), S, size=n)/np.sqrt(n)\n",
    "\n",
    "vals = np.linalg.eigvals(np.dot(X.T, X))\n",
    "plt.hist(vals, bins=bins);\n",
    "print(skew(vals))"
   ]
  },
  {
   "cell_type": "code",
   "execution_count": 118,
   "metadata": {},
   "outputs": [
    {
     "name": "stdout",
     "output_type": "stream",
     "text": [
      "1.8072411737280811\n"
     ]
    },
    {
     "data": {
      "image/png": "[encoded data removed]",
      "text/plain": [
       "<matplotlib.figure.Figure at 0x10e55dfd0>"
      ]
     },
     "metadata": {},
     "output_type": "display_data"
    }
   ],
   "source": [
    "# random covariance matrix\n",
    "t = np.random.randn(n, n)\n",
    "S = np.dot(t.T, t)\n",
    "X = np.random.multivariate_normal(np.zeros(n), S, size=n)/np.sqrt(n)\n",
    "\n",
    "vals = np.linalg.eigvals(np.dot(X.T, X))\n",
    "plt.hist(vals, bins=bins);\n",
    "print(skew(vals))"
   ]
  },
  {
   "cell_type": "code",
   "execution_count": null,
   "metadata": {},
   "outputs": [],
   "source": []
  }
 ],
 "metadata": {
  "kernelspec": {
   "display_name": "Python 3",
   "language": "python",
   "name": "python3"
  },
  "language_info": {
   "codemirror_mode": {
    "name": "ipython",
    "version": 3
   },
   "file_extension": ".py",
   "mimetype": "text/x-python",
   "name": "python",
   "nbconvert_exporter": "python",
   "pygments_lexer": "ipython3",
   "version": "3.6.7"
  }
 },
 "nbformat": 4,
 "nbformat_minor": 2
}
